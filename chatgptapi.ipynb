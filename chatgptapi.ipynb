{
 "cells": [
  {
   "cell_type": "code",
   "execution_count": 1,
   "metadata": {},
   "outputs": [],
   "source": [
    "# Import the OpenAI API library\n",
    "import openai\n",
    "\n",
    "# Set the API key for the OpenAI API\n",
    "# The API key is stored in a text file at the specified path\n",
    "# The 'strip()' method is used to remove any newline characters from the end of the API key\n",
    "openai.api_key = open(\"C:/Users/Home/ChatGPT_API_Joke_Bot/Secret/secret.txt\",\"r\").read().strip('\\n')\n"
   ]
  },
  {
   "cell_type": "code",
   "execution_count": 2,
   "metadata": {},
   "outputs": [
    {
     "name": "stdout",
     "output_type": "stream",
     "text": [
      "{\n",
      "  \"choices\": [\n",
      "    {\n",
      "      \"finish_reason\": \"stop\",\n",
      "      \"index\": 0,\n",
      "      \"message\": {\n",
      "        \"content\": \"\\n\\nThe circumference of the moon is approximately 10,921 km.\",\n",
      "        \"role\": \"assistant\"\n",
      "      }\n",
      "    }\n",
      "  ],\n",
      "  \"created\": 1679467557,\n",
      "  \"id\": \"chatcmpl-6wmWLIEfMZ24gtc4sRBNF6khMyXja\",\n",
      "  \"model\": \"gpt-3.5-turbo-0301\",\n",
      "  \"object\": \"chat.completion\",\n",
      "  \"usage\": {\n",
      "    \"completion_tokens\": 14,\n",
      "    \"prompt_tokens\": 17,\n",
      "    \"total_tokens\": 31\n",
      "  }\n",
      "}\n"
     ]
    }
   ],
   "source": [
    "# Use the 'ChatCompletion' function to send a message to the OpenAI API and get a response\n",
    "# The 'model' parameter specifies which language model to use - in this case, it's the 'gpt-3.5-turbo' model\n",
    "# The 'messages' parameter is a list of dictionaries, where each dictionary represents a message sent in the conversation\n",
    "completion = openai.ChatCompletion.create(\n",
    "    model=\"gpt-3.5-turbo\",\n",
    "    messages=[{\"role\":\"user\",\"content\":\"What is the circumference of the moon in km?\"}]\n",
    ")\n",
    "\n",
    "# Print the response from the OpenAI API\n",
    "print(completion)"
   ]
  },
  {
   "cell_type": "code",
   "execution_count": 3,
   "metadata": {},
   "outputs": [
    {
     "name": "stdout",
     "output_type": "stream",
     "text": [
      "\n",
      "\n",
      "The circumference of the moon is approximately 10,921 km.\n"
     ]
    }
   ],
   "source": [
    "# Get the response from the OpenAI API\n",
    "# The response is stored in the 'completion' object returned by the 'ChatCompletion.create()' method\n",
    "# The response is a list of choices, and we want to get the first (and only) choice, so we use 'completion.choices[0]'\n",
    "# The response message is stored in the 'message' attribute of the choice object, so we use 'completion.choices[0].message'\n",
    "\n",
    "reply_content = completion.choices[0].message.content\n",
    "\n",
    "# Print the response message from the OpenAI API\n",
    "print(reply_content)"
   ]
  },
  {
   "cell_type": "code",
   "execution_count": 4,
   "metadata": {},
   "outputs": [
    {
     "name": "stdout",
     "output_type": "stream",
     "text": [
      "Users's input was \n"
     ]
    }
   ],
   "source": [
    "# Create an empty list to store the conversation history\n",
    "message_history = []\n",
    "\n",
    "# Prompt the user for input and store it in the 'user_input' variable\n",
    "user_input = input(\">: \")\n",
    "\n",
    "# Print the user's input to the console\n",
    "print(\"Users's input was\", user_input)"
   ]
  },
  {
   "cell_type": "code",
   "execution_count": 5,
   "metadata": {},
   "outputs": [],
   "source": [
    "# Append the user's input to the conversation history list\n",
    "# The conversation history is stored as a list of dictionaries, where each dictionary represents a message sent in the conversation\n",
    "# The 'role' key specifies whether the message was sent by the user or the AI - in this case, it's the user\n",
    "# The 'content' key contains the text of the message that was sent\n",
    "message_history.append({\"role\":\"user\",\"content\": user_input})"
   ]
  },
  {
   "cell_type": "code",
   "execution_count": 6,
   "metadata": {},
   "outputs": [
    {
     "name": "stdout",
     "output_type": "stream",
     "text": [
      "\n",
      "\n",
      "I'm sorry, can you please provide me with a question or a topic so I can assist you better?\n"
     ]
    }
   ],
   "source": [
    "# Use the OpenAI API to generate a response to the user's message\n",
    "# The 'ChatCompletion.create()' method is used to send the conversation history to the OpenAI API, which uses it to generate a response\n",
    "# The 'model' parameter specifies which language model to use - in this case, it's the 'gpt-3.5-turbo' model\n",
    "# The 'messages' parameter is a list of dictionaries representing the conversation history, which is passed to the OpenAI API to generate a response\n",
    "completion = openai.ChatCompletion.create(\n",
    "    model = \"gpt-3.5-turbo\",\n",
    "    messages = message_history,\n",
    ")\n",
    "\n",
    "# Get the response message from the OpenAI API\n",
    "# The response is stored in the 'completion' object returned by the 'ChatCompletion.create()' method\n",
    "# The response is a list of choices, and we want to get the first (and only) choice, so we use 'completion.choices[0]'\n",
    "# The response message is stored in the 'message' attribute of the choice object, so we use 'completion.choices[0].message'\n",
    "reply_content = completion.choices[0].message.content\n",
    "\n",
    "# Print the response message from the OpenAI API\n",
    "print(reply_content)"
   ]
  },
  {
   "cell_type": "code",
   "execution_count": 7,
   "metadata": {},
   "outputs": [],
   "source": [
    "# Append the AI's response to the conversation history list\n",
    "# The conversation history is stored as a list of dictionaries, where each dictionary represents a message sent in the conversation\n",
    "# The 'role' key specifies whether the message was sent by the user or the AI - in this case, it's the AI\n",
    "# The 'content' key contains the text of the message that was sent\n",
    "\n",
    "message_history.append({\"role\":\"assistant\",\"content\": reply_content})"
   ]
  },
  {
   "cell_type": "code",
   "execution_count": 8,
   "metadata": {},
   "outputs": [
    {
     "name": "stdout",
     "output_type": "stream",
     "text": [
      "User's input was \n",
      "\n",
      "Sure, how can I assist you today?\n"
     ]
    }
   ],
   "source": [
    "# Prompt the user for input and store it in the 'user_input' variable\n",
    "user_input = input(\">: \")\n",
    "\n",
    "# Print the user's input to the console\n",
    "print(\"User's input was\", user_input)\n",
    "print()\n",
    "\n",
    "# Add the user's message to the conversation history\n",
    "# The 'message_history' list is a list of dictionaries, where each dictionary represents a message sent in the conversation\n",
    "# The 'role' key specifies whether the message was sent by the user or the AI - in this case, it's the user\n",
    "# The 'content' key contains the text of the message that was sent\n",
    "message_history.append({\"role\": \"user\", \"content\": user_input})\n",
    "\n",
    "# Use the OpenAI API to generate a response to the user's message\n",
    "# The 'ChatCompletion.create()' method is used to send the conversation history to the OpenAI API, which uses it to generate a response\n",
    "# The 'model' parameter specifies which language model to use - in this case, it's the 'gpt-3.5-turbo' model\n",
    "# The 'messages' parameter is a list of dictionaries representing the conversation history, which is passed to the OpenAI API to generate a response\n",
    "\n",
    "completion = openai.ChatCompletion.create(\n",
    "    model = \"gpt-3.5-turbo\",\n",
    "    messages = message_history,\n",
    ")\n",
    "\n",
    "# Get the response message from the OpenAI API\n",
    "# The response is stored in the 'completion' object returned by the 'ChatCompletion.create()' method\n",
    "# The response is a list of choices, and we want to get the first (and only) choice, so we use 'completion.choices[0]'\n",
    "# The response message is stored in the 'message' attribute of the choice object, so we use 'completion.choices[0].message'\n",
    "reply_content = completion.choices[0].message.content\n",
    "\n",
    "# Print the response message from the OpenAI API\n",
    "\n",
    "print(reply_content)"
   ]
  },
  {
   "cell_type": "code",
   "execution_count": 9,
   "metadata": {},
   "outputs": [
    {
     "name": "stdout",
     "output_type": "stream",
     "text": [
      "User's input was \n",
      "\n",
      "I'm sorry, can you please provide more information or context for me to understand what you are referring to?\n",
      "\n",
      "User's input was \n",
      "\n",
      "I apologize if my previous response was not helpful. Can you please provide me with a specific question or topic you would like assistance with, so I can provide better support?\n",
      "\n"
     ]
    }
   ],
   "source": [
    "# Create an empty list to store the conversation history\n",
    "message_history = []\n",
    "\n",
    "# Define a function called 'chat' that takes two parameters: 'inp' (the input message) and 'role' (the role of the sender, which is 'user' by default)\n",
    "# The function adds the input message to the conversation history, sends the history to the OpenAI API to generate a response, and returns the response\n",
    "def chat(inp, role = \"user\"):\n",
    "    message_history.append({\"role\": role, \"content\": inp})\n",
    "\n",
    "    completion = openai.ChatCompletion.create(\n",
    "        model = \"gpt-3.5-turbo\",\n",
    "        messages = message_history,\n",
    "    )\n",
    "\n",
    "    reply_content = completion.choices[0].message.content\n",
    "    print(reply_content)\n",
    "    message_history.append({\"role\": \"assistant\", \"content\": reply_content})\n",
    "    return reply_content\n",
    "\n",
    "# Loop through twice to simulate a short conversation\n",
    "for i in range(2):\n",
    "    # Prompt the user for input and store it in the 'user_input' variable\n",
    "    user_input = input(\">: \")\n",
    "    # Print the user's input to the console\n",
    "    print(\"User's input was\", user_input)\n",
    "    print()\n",
    "    # Call the 'chat' function to get a response from the AI\n",
    "    chat(user_input)\n",
    "    # Print a blank line to separate the conversation turns\n",
    "    print()"
   ]
  },
  {
   "cell_type": "code",
   "execution_count": null,
   "metadata": {},
   "outputs": [],
   "source": []
  }
 ],
 "metadata": {
  "kernelspec": {
   "display_name": "PythonData",
   "language": "python",
   "name": "python3"
  },
  "language_info": {
   "codemirror_mode": {
    "name": "ipython",
    "version": 3
   },
   "file_extension": ".py",
   "mimetype": "text/x-python",
   "name": "python",
   "nbconvert_exporter": "python",
   "pygments_lexer": "ipython3",
   "version": "3.7.13"
  },
  "orig_nbformat": 4
 },
 "nbformat": 4,
 "nbformat_minor": 2
}
